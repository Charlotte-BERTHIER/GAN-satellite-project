{
 "cells": [
  {
   "cell_type": "markdown",
   "id": "d0c94e99",
   "metadata": {},
   "source": [
    "## Classification supervisée des images\n",
    "\n",
    "Un réseau de neurones est-il en mesure de détecter les armures des tissages ?"
   ]
  },
  {
   "cell_type": "code",
   "execution_count": null,
   "id": "31c85dd0",
   "metadata": {
    "scrolled": true
   },
   "outputs": [],
   "source": [
    "import pandas as pd\n",
    "import os\n",
    "import shutil #copier fichier\n",
    "from sklearn.model_selection import train_test_split\n",
    "import matplotlib.pyplot as plt\n",
    "\n",
    "import random"
   ]
  },
  {
   "cell_type": "code",
   "execution_count": null,
   "id": "30f1b9ff",
   "metadata": {},
   "outputs": [],
   "source": [
    "from ultralytics import YOLO"
   ]
  },
  {
   "cell_type": "code",
   "execution_count": null,
   "id": "268351b2",
   "metadata": {},
   "outputs": [],
   "source": [
    "cd ../../data"
   ]
  },
  {
   "cell_type": "markdown",
   "id": "a632a354",
   "metadata": {},
   "source": [
    "### Création du dataset"
   ]
  },
  {
   "cell_type": "markdown",
   "id": "cd57bc3f-dea7-4096-a856-64dba5cd8a1c",
   "metadata": {},
   "source": [
    "### Téléchargement du modèle et visualisation de ses composantes"
   ]
  },
  {
   "cell_type": "code",
   "execution_count": null,
   "id": "d688cd40",
   "metadata": {},
   "outputs": [],
   "source": [
    "#Version YOLOv8\n",
    "model = YOLO('yolov8n-cls')"
   ]
  },
  {
   "cell_type": "code",
   "execution_count": null,
   "id": "3aad5cca-ef65-4692-b9de-5f8b1b10b793",
   "metadata": {
    "scrolled": true
   },
   "outputs": [],
   "source": [
    "#Version YOLOv8\n",
    "model"
   ]
  },
  {
   "cell_type": "markdown",
   "id": "e6101be1-9073-4636-a755-3240828814c6",
   "metadata": {},
   "source": [
    "## Premier entrainement avec dataset tel quel"
   ]
  },
  {
   "cell_type": "markdown",
   "id": "87b53c82",
   "metadata": {},
   "source": [
    "### Partage des données train/test"
   ]
  },
  {
   "cell_type": "code",
   "execution_count": null,
   "id": "da4afc14",
   "metadata": {},
   "outputs": [],
   "source": [
    "dataset_dir = 'dataset_technique/dataset'\n",
    "train_dir = 'dataset_technique/data/train'\n",
    "val_dir = 'dataset_technique/data/val'"
   ]
  },
  {
   "cell_type": "code",
   "execution_count": null,
   "id": "648ec2d3",
   "metadata": {},
   "outputs": [],
   "source": [
    "os.makedirs(train_dir, exist_ok=True)\n",
    "os.makedirs(val_dir, exist_ok=True)"
   ]
  },
  {
   "cell_type": "code",
   "execution_count": null,
   "id": "1b393c7f",
   "metadata": {},
   "outputs": [],
   "source": [
    "class_folders = [dir for dir in os.listdir(dataset_dir) if os.path.isdir(os.path.join(dataset_dir, dir))]\n",
    "#On récupère la listes des noms des dossiers/classes"
   ]
  },
  {
   "cell_type": "code",
   "execution_count": null,
   "id": "4edc09a0",
   "metadata": {},
   "outputs": [],
   "source": [
    "class_folders"
   ]
  },
  {
   "cell_type": "markdown",
   "id": "3d0a3b73",
   "metadata": {},
   "source": [
    "### Entraînement des données"
   ]
  },
  {
   "cell_type": "code",
   "execution_count": null,
   "id": "709a42fa-01f0-41a0-99fa-02d1963f2007",
   "metadata": {},
   "outputs": [],
   "source": [
    "for original_folder in class_folders:\n",
    "    old_path  = os.path.join(dataset_dir, original_folder) #concaténation chemin et nom du dossier\n",
    "    new_folder_name = original_folder.split('-')[0]\n",
    "    new_path = os.path.join(dataset_dir, new_folder_name) #creation nouveau chemin\n",
    "    \n",
    "    os.rename(old_path, new_path)"
   ]
  },
  {
   "cell_type": "code",
   "execution_count": null,
   "id": "a335d263",
   "metadata": {},
   "outputs": [],
   "source": [
    "#Pour répartir les images d'entraînement et de validation dans des dossiers avec le bon nom\n",
    "for class_folder in class_folders:\n",
    "    class_path = os.path.join(dataset_dir, class_folder)\n",
    "    images = [image for image in os.listdir(class_path) if os.path.isfile(os.path.join(class_path, image))]\n",
    "    \n",
    "    train_img, val_img = train_test_split(images, test_size=0.2, random_state=42)\n",
    "    \n",
    "    train_subfolder_path = os.path.join(train_dir, class_folder)\n",
    "    val_subfolder_path = os.path.join(val_dir, class_folder)\n",
    "    \n",
    "    os.makedirs(train_subfolder_path, exist_ok=True)\n",
    "    os.makedirs(val_subfolder_path, exist_ok=True)\n",
    "    \n",
    "    for img in train_img:\n",
    "        shutil.copy(os.path.join(class_path, img), train_subfolder_path)\n",
    "        \n",
    "    for img in val_img:\n",
    "        shutil.copy(os.path.join(class_path, img), val_subfolder_path)"
   ]
  },
  {
   "cell_type": "code",
   "execution_count": null,
   "id": "ed5f4e63-6b14-4cb3-85f8-f2a641ebbdde",
   "metadata": {
    "scrolled": true
   },
   "outputs": [],
   "source": [
    "###### Version pour YOLOv8\n",
    "results = model.train(data='dataset_technique/data',\n",
    "                      epochs=50,\n",
    "                      batch=64,\n",
    "                      dropout=0.1, \n",
    "                      seed = 42)\n",
    "                     ,#device='mps') #Entrainement sur la puce Apple M2 (et M1) \"Metal Performance Shaders\"\n",
    "\n",
    "#Bug. en utilisant MPS: error: 'mps.select' op failed to verify that all of {true_value, false_value, result} have same element type\n",
    "    # note: see current operation: %17 = \"mps.select\"(%16, %15, %14) : (tensor<1xi1>, tensor<1xf16>, tensor<1xf32>) -> tensor<1xf16>\n",
    "    #failed assertion 'expected a valid model URL' \n",
    "#Pas encore solutionné par Ultralytics : https://github.com/ultralytics/ultralytics/issues/7554 (issue du 13 janvier 2024)."
   ]
  },
  {
   "cell_type": "code",
   "execution_count": null,
   "id": "d5aaaf20",
   "metadata": {},
   "outputs": [],
   "source": [
    "my_model = YOLO('runs/classify/train/weights/best.pt')\n",
    "#Visualisation des résultats du modèle = résultat\n",
    "result = my_model('dataset_technique/data/val/Mixedweave/BML031_IMG_3428.jpg', visualize=True, save=True)\n",
    "#En jaune on voir les zones maximisées par neurones (pooling = plus on avance dans les couches moins on a de pixels)\n",
    "#Intéressant pour comprendre les choix de classification d'un réseau (couleur, motif, background...)"
   ]
  },
  {
   "cell_type": "markdown",
   "id": "cf3592e4-2488-46ae-a185-a5dfb339474b",
   "metadata": {},
   "source": [
    "#### Validation externe avec dataset de l'année dernière qui contient différentes techniques"
   ]
  },
  {
   "cell_type": "code",
   "execution_count": null,
   "id": "2e229f90-1808-4b57-b0fd-3a5bc3779f79",
   "metadata": {
    "scrolled": true
   },
   "outputs": [],
   "source": [
    "dataset_val_out = 'dataset_technique/test_ext'\n",
    "images = [image for image in os.listdir(dataset_val_out) if image.endswith('.jpg')]\n",
    "for elt in images :\n",
    "    result = my_model(os.path.join(dataset_val_out, elt), visualize=True, save=True)"
   ]
  },
  {
   "cell_type": "code",
   "execution_count": null,
   "id": "18d8f44c-7155-4b5c-8ef1-20f170fd0e61",
   "metadata": {},
   "outputs": [],
   "source": [
    "#viabilité --> FID (f... inception distance), distance entre features d'images réelles et fausses. Images baveuses ou bruitées. \n",
    "#FID images réelles sur simages réelles et images réelles et images fausses."
   ]
  }
 ],
 "metadata": {
  "kernelspec": {
   "display_name": "Python 3 (ipykernel)",
   "language": "python",
   "name": "python3"
  },
  "language_info": {
   "codemirror_mode": {
    "name": "ipython",
    "version": 3
   },
   "file_extension": ".py",
   "mimetype": "text/x-python",
   "name": "python",
   "nbconvert_exporter": "python",
   "pygments_lexer": "ipython3",
   "version": "3.11.9"
  }
 },
 "nbformat": 4,
 "nbformat_minor": 5
}
